{
  "cells":[
    {
      "cell_type":"markdown",
      "source":[
        "# Mood prediction with TensorFlow\n",
        "Trying to predict the mood of a user each day with:\n",
        "- Mood rated between 0 and 5\n",
        "- Weather rated between 0 and 5\n",
        "- Temperature\n",
        "- Month of the year\n",
        "- Day of the week between 0 and 6"
      ],
      "metadata":{
        
      }
    },
    {
      "cell_type":"code",
      "source":[
        "import pandas as pd\n",
        "\n",
        "from tensorflow.keras.models import Sequential\n",
        "from tensorflow.keras.layers import Dense\n",
        "from tensorflow.keras import Input"
      ],
      "execution_count":1,
      "outputs":[
        
      ],
      "metadata":{
        
      }
    },
    {
      "cell_type":"code",
      "source":[
        "mood_history = pd.read_csv('mood-history.csv').sort_values('timestamp')\n",
        "mood_history.head()"
      ],
      "execution_count":2,
      "outputs":[
        {
          "data":{
            "text\/html":[
              "<div>\n",
              "<style scoped>\n",
              "    .dataframe tbody tr th:only-of-type {\n",
              "        vertical-align: middle;\n",
              "    }\n",
              "\n",
              "    .dataframe tbody tr th {\n",
              "        vertical-align: top;\n",
              "    }\n",
              "\n",
              "    .dataframe thead th {\n",
              "        text-align: right;\n",
              "    }\n",
              "<\/style>\n",
              "<table border=\"1\" class=\"dataframe\">\n",
              "  <thead>\n",
              "    <tr style=\"text-align: right;\">\n",
              "      <th><\/th>\n",
              "      <th>timestamp<\/th>\n",
              "      <th>mood<\/th>\n",
              "      <th>weather<\/th>\n",
              "      <th>temperature<\/th>\n",
              "      <th>month<\/th>\n",
              "      <th>day<\/th>\n",
              "      <th>weekday<\/th>\n",
              "    <\/tr>\n",
              "  <\/thead>\n",
              "  <tbody>\n",
              "    <tr>\n",
              "      <th>0<\/th>\n",
              "      <td>1616320024<\/td>\n",
              "      <td>5<\/td>\n",
              "      <td>5<\/td>\n",
              "      <td>8<\/td>\n",
              "      <td>3<\/td>\n",
              "      <td>21<\/td>\n",
              "      <td>6<\/td>\n",
              "    <\/tr>\n",
              "    <tr>\n",
              "      <th>1<\/th>\n",
              "      <td>1616406424<\/td>\n",
              "      <td>3<\/td>\n",
              "      <td>4<\/td>\n",
              "      <td>8<\/td>\n",
              "      <td>3<\/td>\n",
              "      <td>22<\/td>\n",
              "      <td>0<\/td>\n",
              "    <\/tr>\n",
              "    <tr>\n",
              "      <th>2<\/th>\n",
              "      <td>1616579224<\/td>\n",
              "      <td>4<\/td>\n",
              "      <td>5<\/td>\n",
              "      <td>9<\/td>\n",
              "      <td>3<\/td>\n",
              "      <td>23<\/td>\n",
              "      <td>1<\/td>\n",
              "    <\/tr>\n",
              "    <tr>\n",
              "      <th>3<\/th>\n",
              "      <td>1616579224<\/td>\n",
              "      <td>3<\/td>\n",
              "      <td>5<\/td>\n",
              "      <td>9<\/td>\n",
              "      <td>3<\/td>\n",
              "      <td>24<\/td>\n",
              "      <td>2<\/td>\n",
              "    <\/tr>\n",
              "    <tr>\n",
              "      <th>4<\/th>\n",
              "      <td>1616665624<\/td>\n",
              "      <td>2<\/td>\n",
              "      <td>4<\/td>\n",
              "      <td>7<\/td>\n",
              "      <td>3<\/td>\n",
              "      <td>25<\/td>\n",
              "      <td>3<\/td>\n",
              "    <\/tr>\n",
              "  <\/tbody>\n",
              "<\/table>\n",
              "<\/div>"
            ]
          },
          "metadata":{
            
          },
          "output_type":"display_data"
        }
      ],
      "metadata":{
        
      }
    },
    {
      "cell_type":"markdown",
      "source":[
        "## Data normalization\n",
        "\n",
        "Normalizes some input features to make them all between 0 and 1.\n",
        "\n",
        "Applies `(x - min) \/ (max - min)` for all the features."
      ],
      "metadata":{
        
      }
    },
    {
      "cell_type":"code",
      "source":[
        "mood_history['mood'] = mood_history['mood'].apply(lambda x: x \/ 5)\n",
        "mood_history['weather'] = mood_history['weather'].apply(lambda x: x \/ 5)\n",
        "mood_history['temperature'] = mood_history['temperature'].apply(lambda x: (x + 30) \/ (50 + 30))\n",
        "\n",
        "mood_history"
      ],
      "execution_count":3,
      "outputs":[
        {
          "data":{
            "text\/html":[
              "<div>\n",
              "<style scoped>\n",
              "    .dataframe tbody tr th:only-of-type {\n",
              "        vertical-align: middle;\n",
              "    }\n",
              "\n",
              "    .dataframe tbody tr th {\n",
              "        vertical-align: top;\n",
              "    }\n",
              "\n",
              "    .dataframe thead th {\n",
              "        text-align: right;\n",
              "    }\n",
              "<\/style>\n",
              "<table border=\"1\" class=\"dataframe\">\n",
              "  <thead>\n",
              "    <tr style=\"text-align: right;\">\n",
              "      <th><\/th>\n",
              "      <th>timestamp<\/th>\n",
              "      <th>mood<\/th>\n",
              "      <th>weather<\/th>\n",
              "      <th>temperature<\/th>\n",
              "      <th>month<\/th>\n",
              "      <th>day<\/th>\n",
              "      <th>weekday<\/th>\n",
              "    <\/tr>\n",
              "  <\/thead>\n",
              "  <tbody>\n",
              "    <tr>\n",
              "      <th>0<\/th>\n",
              "      <td>1616320024<\/td>\n",
              "      <td>1.0<\/td>\n",
              "      <td>1.0<\/td>\n",
              "      <td>0.4750<\/td>\n",
              "      <td>3<\/td>\n",
              "      <td>21<\/td>\n",
              "      <td>6<\/td>\n",
              "    <\/tr>\n",
              "    <tr>\n",
              "      <th>1<\/th>\n",
              "      <td>1616406424<\/td>\n",
              "      <td>0.6<\/td>\n",
              "      <td>0.8<\/td>\n",
              "      <td>0.4750<\/td>\n",
              "      <td>3<\/td>\n",
              "      <td>22<\/td>\n",
              "      <td>0<\/td>\n",
              "    <\/tr>\n",
              "    <tr>\n",
              "      <th>2<\/th>\n",
              "      <td>1616579224<\/td>\n",
              "      <td>0.8<\/td>\n",
              "      <td>1.0<\/td>\n",
              "      <td>0.4875<\/td>\n",
              "      <td>3<\/td>\n",
              "      <td>23<\/td>\n",
              "      <td>1<\/td>\n",
              "    <\/tr>\n",
              "    <tr>\n",
              "      <th>3<\/th>\n",
              "      <td>1616579224<\/td>\n",
              "      <td>0.6<\/td>\n",
              "      <td>1.0<\/td>\n",
              "      <td>0.4875<\/td>\n",
              "      <td>3<\/td>\n",
              "      <td>24<\/td>\n",
              "      <td>2<\/td>\n",
              "    <\/tr>\n",
              "    <tr>\n",
              "      <th>4<\/th>\n",
              "      <td>1616665624<\/td>\n",
              "      <td>0.4<\/td>\n",
              "      <td>0.8<\/td>\n",
              "      <td>0.4625<\/td>\n",
              "      <td>3<\/td>\n",
              "      <td>25<\/td>\n",
              "      <td>3<\/td>\n",
              "    <\/tr>\n",
              "    <tr>\n",
              "      <th>5<\/th>\n",
              "      <td>1616752024<\/td>\n",
              "      <td>0.4<\/td>\n",
              "      <td>0.6<\/td>\n",
              "      <td>0.4375<\/td>\n",
              "      <td>3<\/td>\n",
              "      <td>26<\/td>\n",
              "      <td>4<\/td>\n",
              "    <\/tr>\n",
              "    <tr>\n",
              "      <th>6<\/th>\n",
              "      <td>1616838424<\/td>\n",
              "      <td>1.0<\/td>\n",
              "      <td>1.0<\/td>\n",
              "      <td>0.5250<\/td>\n",
              "      <td>3<\/td>\n",
              "      <td>27<\/td>\n",
              "      <td>5<\/td>\n",
              "    <\/tr>\n",
              "  <\/tbody>\n",
              "<\/table>\n",
              "<\/div>"
            ]
          },
          "metadata":{
            
          },
          "output_type":"display_data"
        }
      ],
      "metadata":{
        
      }
    },
    {
      "cell_type":"code",
      "source":[
        "X_train = mood_history[[\n",
        "            'weather',\n",
        "            'temperature',\n",
        "            'month',\n",
        "            'day',\n",
        "            'weekday'\n",
        "]]\n",
        "X_train.columns = range(X_train.shape[1])\n",
        "\n",
        "X_train.head()"
      ],
      "execution_count":4,
      "outputs":[
        {
          "data":{
            "text\/html":[
              "<div>\n",
              "<style scoped>\n",
              "    .dataframe tbody tr th:only-of-type {\n",
              "        vertical-align: middle;\n",
              "    }\n",
              "\n",
              "    .dataframe tbody tr th {\n",
              "        vertical-align: top;\n",
              "    }\n",
              "\n",
              "    .dataframe thead th {\n",
              "        text-align: right;\n",
              "    }\n",
              "<\/style>\n",
              "<table border=\"1\" class=\"dataframe\">\n",
              "  <thead>\n",
              "    <tr style=\"text-align: right;\">\n",
              "      <th><\/th>\n",
              "      <th>0<\/th>\n",
              "      <th>1<\/th>\n",
              "      <th>2<\/th>\n",
              "      <th>3<\/th>\n",
              "      <th>4<\/th>\n",
              "    <\/tr>\n",
              "  <\/thead>\n",
              "  <tbody>\n",
              "    <tr>\n",
              "      <th>0<\/th>\n",
              "      <td>1.0<\/td>\n",
              "      <td>0.4750<\/td>\n",
              "      <td>3<\/td>\n",
              "      <td>21<\/td>\n",
              "      <td>6<\/td>\n",
              "    <\/tr>\n",
              "    <tr>\n",
              "      <th>1<\/th>\n",
              "      <td>0.8<\/td>\n",
              "      <td>0.4750<\/td>\n",
              "      <td>3<\/td>\n",
              "      <td>22<\/td>\n",
              "      <td>0<\/td>\n",
              "    <\/tr>\n",
              "    <tr>\n",
              "      <th>2<\/th>\n",
              "      <td>1.0<\/td>\n",
              "      <td>0.4875<\/td>\n",
              "      <td>3<\/td>\n",
              "      <td>23<\/td>\n",
              "      <td>1<\/td>\n",
              "    <\/tr>\n",
              "    <tr>\n",
              "      <th>3<\/th>\n",
              "      <td>1.0<\/td>\n",
              "      <td>0.4875<\/td>\n",
              "      <td>3<\/td>\n",
              "      <td>24<\/td>\n",
              "      <td>2<\/td>\n",
              "    <\/tr>\n",
              "    <tr>\n",
              "      <th>4<\/th>\n",
              "      <td>0.8<\/td>\n",
              "      <td>0.4625<\/td>\n",
              "      <td>3<\/td>\n",
              "      <td>25<\/td>\n",
              "      <td>3<\/td>\n",
              "    <\/tr>\n",
              "  <\/tbody>\n",
              "<\/table>\n",
              "<\/div>"
            ]
          },
          "metadata":{
            
          },
          "output_type":"display_data"
        }
      ],
      "metadata":{
        
      }
    },
    {
      "cell_type":"code",
      "source":[
        "Y_train = mood_history[[\n",
        "            'mood'\n",
        "]]\n",
        "Y_train.columns = range(Y_train.shape[1])\n",
        "\n",
        "Y_train.head()"
      ],
      "execution_count":5,
      "outputs":[
        {
          "data":{
            "text\/html":[
              "<div>\n",
              "<style scoped>\n",
              "    .dataframe tbody tr th:only-of-type {\n",
              "        vertical-align: middle;\n",
              "    }\n",
              "\n",
              "    .dataframe tbody tr th {\n",
              "        vertical-align: top;\n",
              "    }\n",
              "\n",
              "    .dataframe thead th {\n",
              "        text-align: right;\n",
              "    }\n",
              "<\/style>\n",
              "<table border=\"1\" class=\"dataframe\">\n",
              "  <thead>\n",
              "    <tr style=\"text-align: right;\">\n",
              "      <th><\/th>\n",
              "      <th>0<\/th>\n",
              "    <\/tr>\n",
              "  <\/thead>\n",
              "  <tbody>\n",
              "    <tr>\n",
              "      <th>0<\/th>\n",
              "      <td>1.0<\/td>\n",
              "    <\/tr>\n",
              "    <tr>\n",
              "      <th>1<\/th>\n",
              "      <td>0.6<\/td>\n",
              "    <\/tr>\n",
              "    <tr>\n",
              "      <th>2<\/th>\n",
              "      <td>0.8<\/td>\n",
              "    <\/tr>\n",
              "    <tr>\n",
              "      <th>3<\/th>\n",
              "      <td>0.6<\/td>\n",
              "    <\/tr>\n",
              "    <tr>\n",
              "      <th>4<\/th>\n",
              "      <td>0.4<\/td>\n",
              "    <\/tr>\n",
              "  <\/tbody>\n",
              "<\/table>\n",
              "<\/div>"
            ]
          },
          "metadata":{
            
          },
          "output_type":"display_data"
        }
      ],
      "metadata":{
        
      }
    },
    {
      "cell_type":"code",
      "source":[
        "model = Sequential()\n",
        "\n",
        "model.add(Input(shape=(5,)))\n",
        "model.add(Dense(4, activation='relu'))\n",
        "model.add(Dense(1))"
      ],
      "execution_count":6,
      "outputs":[
        
      ],
      "metadata":{
        
      }
    },
    {
      "cell_type":"code",
      "source":[
        "model.compile(optimizer='sgd', loss='mean_squared_error')"
      ],
      "execution_count":7,
      "outputs":[
        
      ],
      "metadata":{
        
      }
    },
    {
      "cell_type":"code",
      "source":[
        "model.fit(X_train, Y_train, batch_size=1, epochs=10)"
      ],
      "execution_count":8,
      "outputs":[
        {
          "name":"stdout",
          "text":[
            "Epoch 1\/10\n",
            "\r1\/7 [===>..........................] - ETA: 0s - loss: 4.2850\b\b\b\b\b\b\b\b\b\b\b\b\b\b\b\b\b\b\b\b\b\b\b\b\b\b\b\b\b\b\b\b\b\b\b\b\b\b\b\b\b\b\b\b\b\b\b\b\b\b\b\b\b\b\b\b\b\b\b\b\b\r7\/7 [==============================] - 0s 1ms\/step - loss: 0.9890\n",
            "Epoch 2\/10\n",
            "\r1\/7 [===>..........................] - ETA: 0s - loss: 0.0040\b\b\b\b\b\b\b\b\b\b\b\b\b\b\b\b\b\b\b\b\b\b\b\b\b\b\b\b\b\b\b\b\b\b\b\b\b\b\b\b\b\b\b\b\b\b\b\b\b\b\b\b\b\b\b\b\b\b\b\b\b\r7\/7 [==============================] - 0s 1ms\/step - loss: 0.0980\n",
            "Epoch 3\/10\n",
            "\r1\/7 [===>..........................] - ETA: 0s - loss: 0.0283\b\b\b\b\b\b\b\b\b\b\b\b\b\b\b\b\b\b\b\b\b\b\b\b\b\b\b\b\b\b\b\b\b\b\b\b\b\b\b\b\b\b\b\b\b\b\b\b\b\b\b\b\b\b\b\b\b\b\b\b\b\r7\/7 [==============================] - 0s 1ms\/step - loss: 0.1022\n",
            "Epoch 4\/10\n",
            "\r1\/7 [===>..........................] - ETA: 0s - loss: 0.0886\b\b\b\b\b\b\b\b\b\b\b\b\b\b\b\b\b\b\b\b\b\b\b\b\b\b\b\b\b\b\b\b\b\b\b\b\b\b\b\b\b\b\b\b\b\b\b\b\b\b\b\b\b\b\b\b\b\b\b\b\b\r7\/7 [==============================] - 0s 1ms\/step - loss: 0.1171\n",
            "Epoch 5\/10\n",
            "\r1\/7 [===>..........................] - ETA: 0s - loss: 0.1915\b\b\b\b\b\b\b\b\b\b\b\b\b\b\b\b\b\b\b\b\b\b\b\b\b\b\b\b\b\b\b\b\b\b\b\b\b\b\b\b\b\b\b\b\b\b\b\b\b\b\b\b\b\b\b\b\b\b\b\b\b\r7\/7 [==============================] - 0s 2ms\/step - loss: 0.0884\n",
            "Epoch 6\/10\n",
            "\r1\/7 [===>..........................] - ETA: 0s - loss: 0.0011\b\b\b\b\b\b\b\b\b\b\b\b\b\b\b\b\b\b\b\b\b\b\b\b\b\b\b\b\b\b\b\b\b\b\b\b\b\b\b\b\b\b\b\b\b\b\b\b\b\b\b\b\b\b\b\b\b\b\b\b\b\r7\/7 [==============================] - 0s 2ms\/step - loss: 0.0763\n",
            "Epoch 7\/10\n",
            "\r1\/7 [===>..........................] - ETA: 0s - loss: 0.0073\b\b\b\b\b\b\b\b\b\b\b\b\b\b\b\b\b\b\b\b\b\b\b\b\b\b\b\b\b\b\b\b\b\b\b\b\b\b\b\b\b\b\b\b\b\b\b\b\b\b\b\b\b\b\b\b\b\b\b\b\b\r7\/7 [==============================] - 0s 1ms\/step - loss: 0.0928\n",
            "Epoch 8\/10\n",
            "\r1\/7 [===>..........................] - ETA: 0s - loss: 0.2008\b\b\b\b\b\b\b\b\b\b\b\b\b\b\b\b\b\b\b\b\b\b\b\b\b\b\b\b\b\b\b\b\b\b\b\b\b\b\b\b\b\b\b\b\b\b\b\b\b\b\b\b\b\b\b\b\b\b\b\b\b\r7\/7 [==============================] - 0s 1ms\/step - loss: 0.0965\n",
            "Epoch 9\/10\n",
            "\r1\/7 [===>..........................] - ETA: 0s - loss: 0.0131\b\b\b\b\b\b\b\b\b\b\b\b\b\b\b\b\b\b\b\b\b\b\b\b\b\b\b\b\b\b\b\b\b\b\b\b\b\b\b\b\b\b\b\b\b\b\b\b\b\b\b\b\b\b\b\b\b\b\b\b\b\r7\/7 [==============================] - 0s 1ms\/step - loss: 0.0472\n",
            "Epoch 10\/10\n",
            "\r1\/7 [===>..........................] - ETA: 0s - loss: 0.0055\b\b\b\b\b\b\b\b\b\b\b\b\b\b\b\b\b\b\b\b\b\b\b\b\b\b\b\b\b\b\b\b\b\b\b\b\b\b\b\b\b\b\b\b\b\b\b\b\b\b\b\b\b\b\b\b\b\b\b\b\b\r7\/7 [==============================] - 0s 1ms\/step - loss: 0.1128\n"
          ],
          "output_type":"stream"
        },
        {
          "data":{
            "text\/plain":[
              "<tensorflow.python.keras.callbacks.History at 0x7fc4fef49e90>"
            ]
          },
          "metadata":{
            
          },
          "output_type":"display_data"
        }
      ],
      "metadata":{
        
      }
    },
    {
      "cell_type":"code",
      "source":[
        "predictions = model.predict(pd.DataFrame([[\n",
        "            1,\n",
        "            1,\n",
        "            3,\n",
        "            28,\n",
        "            6\n",
        "]]))\n",
        "\n",
        "predictions"
      ],
      "execution_count":9,
      "outputs":[
        {
          "data":{
            "text\/plain":[
              "array([[0.94317734]], dtype=float32)"
            ]
          },
          "metadata":{
            
          },
          "output_type":"display_data"
        }
      ],
      "metadata":{
        
      }
    }
  ],
  "metadata":{
    
  },
  "nbformat":4,
  "nbformat_minor":0
}