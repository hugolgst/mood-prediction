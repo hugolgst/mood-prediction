{
  "cells":[
    {
      "cell_type":"markdown",
      "source":[
        "# Mood prediction with TensorFlow\n",
        "Trying to predict the mood of a user each day with:\n",
        "- Mood rated between 0 and 5\n",
        "- Weather rated between 0 and 5\n",
        "- Temperature\n",
        "- Month of the year\n",
        "- Day of the week between 0 and 6"
      ],
      "metadata":{
        
      }
    },
    {
      "cell_type":"code",
      "source":[
        "import pandas as pd\n",
        "\n",
        "from tensorflow.keras.models import Sequential\n",
        "from tensorflow.keras.layers import Dense\n",
        "from tensorflow.keras import Input"
      ],
      "execution_count":1,
      "outputs":[
        
      ],
      "metadata":{
        
      }
    },
    {
      "cell_type":"code",
      "source":[
        "mood_history = pd.read_csv('mood-history.csv').sort_values('timestamp')\n",
        "mood_history.head()"
      ],
      "execution_count":2,
      "outputs":[
        {
          "data":{
            "text\/html":[
              "<div>\n",
              "<style scoped>\n",
              "    .dataframe tbody tr th:only-of-type {\n",
              "        vertical-align: middle;\n",
              "    }\n",
              "\n",
              "    .dataframe tbody tr th {\n",
              "        vertical-align: top;\n",
              "    }\n",
              "\n",
              "    .dataframe thead th {\n",
              "        text-align: right;\n",
              "    }\n",
              "<\/style>\n",
              "<table border=\"1\" class=\"dataframe\">\n",
              "  <thead>\n",
              "    <tr style=\"text-align: right;\">\n",
              "      <th><\/th>\n",
              "      <th>timestamp<\/th>\n",
              "      <th>mood<\/th>\n",
              "      <th>weather<\/th>\n",
              "      <th>temperature<\/th>\n",
              "      <th>month<\/th>\n",
              "      <th>day<\/th>\n",
              "      <th>weekday<\/th>\n",
              "    <\/tr>\n",
              "  <\/thead>\n",
              "  <tbody>\n",
              "    <tr>\n",
              "      <th>0<\/th>\n",
              "      <td>1616320024<\/td>\n",
              "      <td>5<\/td>\n",
              "      <td>5<\/td>\n",
              "      <td>8<\/td>\n",
              "      <td>2<\/td>\n",
              "      <td>21<\/td>\n",
              "      <td>6<\/td>\n",
              "    <\/tr>\n",
              "    <tr>\n",
              "      <th>1<\/th>\n",
              "      <td>1616406424<\/td>\n",
              "      <td>3<\/td>\n",
              "      <td>4<\/td>\n",
              "      <td>8<\/td>\n",
              "      <td>2<\/td>\n",
              "      <td>22<\/td>\n",
              "      <td>0<\/td>\n",
              "    <\/tr>\n",
              "    <tr>\n",
              "      <th>2<\/th>\n",
              "      <td>1616579224<\/td>\n",
              "      <td>4<\/td>\n",
              "      <td>5<\/td>\n",
              "      <td>9<\/td>\n",
              "      <td>2<\/td>\n",
              "      <td>23<\/td>\n",
              "      <td>1<\/td>\n",
              "    <\/tr>\n",
              "    <tr>\n",
              "      <th>3<\/th>\n",
              "      <td>1616579224<\/td>\n",
              "      <td>3<\/td>\n",
              "      <td>5<\/td>\n",
              "      <td>9<\/td>\n",
              "      <td>2<\/td>\n",
              "      <td>24<\/td>\n",
              "      <td>2<\/td>\n",
              "    <\/tr>\n",
              "    <tr>\n",
              "      <th>4<\/th>\n",
              "      <td>1616665624<\/td>\n",
              "      <td>2<\/td>\n",
              "      <td>4<\/td>\n",
              "      <td>7<\/td>\n",
              "      <td>2<\/td>\n",
              "      <td>25<\/td>\n",
              "      <td>3<\/td>\n",
              "    <\/tr>\n",
              "  <\/tbody>\n",
              "<\/table>\n",
              "<\/div>"
            ]
          },
          "metadata":{
            
          },
          "output_type":"display_data"
        }
      ],
      "metadata":{
        
      }
    },
    {
      "cell_type":"markdown",
      "source":[
        "## Data normalization\n",
        "\n",
        "Normalizes some input features to make them all between 0 and 1.\n",
        "\n",
        "Applies `(x - min) \/ (max - min)` for all the features."
      ],
      "metadata":{
        
      }
    },
    {
      "cell_type":"code",
      "source":[
        "def init_bag(size, index):\n",
        "    \"\"\"\n",
        "    Initialize a bag of a specified size with an index in which the value\n",
        "    will be 1.\n",
        "    \"\"\"\n",
        "\n",
        "    bag = [0] * size\n",
        "    bag[index] = 1\n",
        "\n",
        "    return bag\n",
        "\n",
        "def normalize_data(df):\n",
        "    \"\"\"\n",
        "    Normalize the given Data Frame to put all values between 0 and 1.\n",
        "    Creates bags for the months, days and week days.\n",
        "    \"\"\"\n",
        "\n",
        "    if \"mood\" in df.columns:\n",
        "        df['mood'] = df['mood'].apply(lambda x: x \/ 5)\n",
        "    df['weather'] = df['weather'].apply(lambda x: x \/ 5)\n",
        "    df['temperature'] = df['temperature'].apply(lambda x: (x + 30) \/ (50 + 30))\n",
        "\n",
        "    df['month'] = df['month'].apply(lambda x: init_bag(12, x))\n",
        "    df['day'] = df['day'].apply(lambda x: init_bag(31, x))\n",
        "    df['weekday'] = df['weekday'].apply(lambda x: init_bag(7, x))\n",
        "\n",
        "    return df\n",
        "\n",
        "normalized_mood_history = normalize_data(mood_history)\n",
        "normalized_mood_history"
      ],
      "execution_count":3,
      "outputs":[
        {
          "data":{
            "text\/html":[
              "<div>\n",
              "<style scoped>\n",
              "    .dataframe tbody tr th:only-of-type {\n",
              "        vertical-align: middle;\n",
              "    }\n",
              "\n",
              "    .dataframe tbody tr th {\n",
              "        vertical-align: top;\n",
              "    }\n",
              "\n",
              "    .dataframe thead th {\n",
              "        text-align: right;\n",
              "    }\n",
              "<\/style>\n",
              "<table border=\"1\" class=\"dataframe\">\n",
              "  <thead>\n",
              "    <tr style=\"text-align: right;\">\n",
              "      <th><\/th>\n",
              "      <th>timestamp<\/th>\n",
              "      <th>mood<\/th>\n",
              "      <th>weather<\/th>\n",
              "      <th>temperature<\/th>\n",
              "      <th>month<\/th>\n",
              "      <th>day<\/th>\n",
              "      <th>weekday<\/th>\n",
              "    <\/tr>\n",
              "  <\/thead>\n",
              "  <tbody>\n",
              "    <tr>\n",
              "      <th>0<\/th>\n",
              "      <td>1616320024<\/td>\n",
              "      <td>1.0<\/td>\n",
              "      <td>1.0<\/td>\n",
              "      <td>0.4750<\/td>\n",
              "      <td>[0, 0, 1, 0, 0, 0, 0, 0, 0, 0, 0, 0]<\/td>\n",
              "      <td>[0, 0, 0, 0, 0, 0, 0, 0, 0, 0, 0, 0, 0, 0, 0, ...<\/td>\n",
              "      <td>[0, 0, 0, 0, 0, 0, 1]<\/td>\n",
              "    <\/tr>\n",
              "    <tr>\n",
              "      <th>1<\/th>\n",
              "      <td>1616406424<\/td>\n",
              "      <td>0.6<\/td>\n",
              "      <td>0.8<\/td>\n",
              "      <td>0.4750<\/td>\n",
              "      <td>[0, 0, 1, 0, 0, 0, 0, 0, 0, 0, 0, 0]<\/td>\n",
              "      <td>[0, 0, 0, 0, 0, 0, 0, 0, 0, 0, 0, 0, 0, 0, 0, ...<\/td>\n",
              "      <td>[1, 0, 0, 0, 0, 0, 0]<\/td>\n",
              "    <\/tr>\n",
              "    <tr>\n",
              "      <th>2<\/th>\n",
              "      <td>1616579224<\/td>\n",
              "      <td>0.8<\/td>\n",
              "      <td>1.0<\/td>\n",
              "      <td>0.4875<\/td>\n",
              "      <td>[0, 0, 1, 0, 0, 0, 0, 0, 0, 0, 0, 0]<\/td>\n",
              "      <td>[0, 0, 0, 0, 0, 0, 0, 0, 0, 0, 0, 0, 0, 0, 0, ...<\/td>\n",
              "      <td>[0, 1, 0, 0, 0, 0, 0]<\/td>\n",
              "    <\/tr>\n",
              "    <tr>\n",
              "      <th>3<\/th>\n",
              "      <td>1616579224<\/td>\n",
              "      <td>0.6<\/td>\n",
              "      <td>1.0<\/td>\n",
              "      <td>0.4875<\/td>\n",
              "      <td>[0, 0, 1, 0, 0, 0, 0, 0, 0, 0, 0, 0]<\/td>\n",
              "      <td>[0, 0, 0, 0, 0, 0, 0, 0, 0, 0, 0, 0, 0, 0, 0, ...<\/td>\n",
              "      <td>[0, 0, 1, 0, 0, 0, 0]<\/td>\n",
              "    <\/tr>\n",
              "    <tr>\n",
              "      <th>4<\/th>\n",
              "      <td>1616665624<\/td>\n",
              "      <td>0.4<\/td>\n",
              "      <td>0.8<\/td>\n",
              "      <td>0.4625<\/td>\n",
              "      <td>[0, 0, 1, 0, 0, 0, 0, 0, 0, 0, 0, 0]<\/td>\n",
              "      <td>[0, 0, 0, 0, 0, 0, 0, 0, 0, 0, 0, 0, 0, 0, 0, ...<\/td>\n",
              "      <td>[0, 0, 0, 1, 0, 0, 0]<\/td>\n",
              "    <\/tr>\n",
              "    <tr>\n",
              "      <th>5<\/th>\n",
              "      <td>1616752024<\/td>\n",
              "      <td>0.4<\/td>\n",
              "      <td>0.6<\/td>\n",
              "      <td>0.4375<\/td>\n",
              "      <td>[0, 0, 1, 0, 0, 0, 0, 0, 0, 0, 0, 0]<\/td>\n",
              "      <td>[0, 0, 0, 0, 0, 0, 0, 0, 0, 0, 0, 0, 0, 0, 0, ...<\/td>\n",
              "      <td>[0, 0, 0, 0, 1, 0, 0]<\/td>\n",
              "    <\/tr>\n",
              "    <tr>\n",
              "      <th>6<\/th>\n",
              "      <td>1616838424<\/td>\n",
              "      <td>1.0<\/td>\n",
              "      <td>1.0<\/td>\n",
              "      <td>0.5250<\/td>\n",
              "      <td>[0, 0, 1, 0, 0, 0, 0, 0, 0, 0, 0, 0]<\/td>\n",
              "      <td>[0, 0, 0, 0, 0, 0, 0, 0, 0, 0, 0, 0, 0, 0, 0, ...<\/td>\n",
              "      <td>[0, 0, 0, 0, 0, 1, 0]<\/td>\n",
              "    <\/tr>\n",
              "  <\/tbody>\n",
              "<\/table>\n",
              "<\/div>"
            ]
          },
          "metadata":{
            
          },
          "output_type":"display_data"
        }
      ],
      "metadata":{
        
      }
    },
    {
      "cell_type":"code",
      "source":[
        "def get_training_data(df):\n",
        "    \"\"\"\n",
        "    Flatten, removes columns names for integers to get the training data.\n",
        "    \"\"\"\n",
        "\n",
        "    train = df[[\n",
        "                'weather',\n",
        "                'temperature',\n",
        "                'month',\n",
        "                'day',\n",
        "                'weekday'\n",
        "    ]]\n",
        "    # Create new columns as bags for months, days and weekday\n",
        "    train[[f'm{i}' for i in range(0, 12)]] = train['month'].apply(pd.Series)\n",
        "    train[[f'd{i}' for i in range(0, 31)]] = train['day'].apply(pd.Series)\n",
        "    train[[f'w{i}' for i in range(0, 7)]] = train['weekday'].apply(pd.Series)\n",
        "\n",
        "    # Drop the old columns\n",
        "    train.drop(['month', 'day', 'weekday'], inplace=True, axis=1)\n",
        "\n",
        "    # Remove columns names for integers\n",
        "    train.columns = range(train.shape[1])\n",
        "\n",
        "    return train\n",
        "\n",
        "X_train = get_training_data(normalized_mood_history)\n",
        "X_train.head()"
      ],
      "execution_count":4,
      "outputs":[
        {
          "name":"stderr",
          "text":[
            "\/opt\/anaconda3\/envs\/datalore-user\/lib\/python3.7\/site-packages\/pandas\/core\/frame.py:3065: SettingWithCopyWarning: \n",
            "A value is trying to be set on a copy of a slice from a DataFrame.\n",
            "Try using .loc[row_indexer,col_indexer] = value instead\n",
            "\n",
            "See the caveats in the documentation: https:\/\/pandas.pydata.org\/pandas-docs\/stable\/user_guide\/indexing.html#returning-a-view-versus-a-copy\n",
            "  self[k1] = value[k2]\n"
          ],
          "output_type":"stream"
        },
        {
          "data":{
            "text\/html":[
              "<div>\n",
              "<style scoped>\n",
              "    .dataframe tbody tr th:only-of-type {\n",
              "        vertical-align: middle;\n",
              "    }\n",
              "\n",
              "    .dataframe tbody tr th {\n",
              "        vertical-align: top;\n",
              "    }\n",
              "\n",
              "    .dataframe thead th {\n",
              "        text-align: right;\n",
              "    }\n",
              "<\/style>\n",
              "<table border=\"1\" class=\"dataframe\">\n",
              "  <thead>\n",
              "    <tr style=\"text-align: right;\">\n",
              "      <th><\/th>\n",
              "      <th>0<\/th>\n",
              "      <th>1<\/th>\n",
              "      <th>2<\/th>\n",
              "      <th>3<\/th>\n",
              "      <th>4<\/th>\n",
              "      <th>5<\/th>\n",
              "      <th>6<\/th>\n",
              "      <th>7<\/th>\n",
              "      <th>8<\/th>\n",
              "      <th>9<\/th>\n",
              "      <th>...<\/th>\n",
              "      <th>42<\/th>\n",
              "      <th>43<\/th>\n",
              "      <th>44<\/th>\n",
              "      <th>45<\/th>\n",
              "      <th>46<\/th>\n",
              "      <th>47<\/th>\n",
              "      <th>48<\/th>\n",
              "      <th>49<\/th>\n",
              "      <th>50<\/th>\n",
              "      <th>51<\/th>\n",
              "    <\/tr>\n",
              "  <\/thead>\n",
              "  <tbody>\n",
              "    <tr>\n",
              "      <th>0<\/th>\n",
              "      <td>1.0<\/td>\n",
              "      <td>0.4750<\/td>\n",
              "      <td>0<\/td>\n",
              "      <td>0<\/td>\n",
              "      <td>1<\/td>\n",
              "      <td>0<\/td>\n",
              "      <td>0<\/td>\n",
              "      <td>0<\/td>\n",
              "      <td>0<\/td>\n",
              "      <td>0<\/td>\n",
              "      <td>...<\/td>\n",
              "      <td>0<\/td>\n",
              "      <td>0<\/td>\n",
              "      <td>0<\/td>\n",
              "      <td>0<\/td>\n",
              "      <td>0<\/td>\n",
              "      <td>0<\/td>\n",
              "      <td>0<\/td>\n",
              "      <td>0<\/td>\n",
              "      <td>0<\/td>\n",
              "      <td>1<\/td>\n",
              "    <\/tr>\n",
              "    <tr>\n",
              "      <th>1<\/th>\n",
              "      <td>0.8<\/td>\n",
              "      <td>0.4750<\/td>\n",
              "      <td>0<\/td>\n",
              "      <td>0<\/td>\n",
              "      <td>1<\/td>\n",
              "      <td>0<\/td>\n",
              "      <td>0<\/td>\n",
              "      <td>0<\/td>\n",
              "      <td>0<\/td>\n",
              "      <td>0<\/td>\n",
              "      <td>...<\/td>\n",
              "      <td>0<\/td>\n",
              "      <td>0<\/td>\n",
              "      <td>0<\/td>\n",
              "      <td>1<\/td>\n",
              "      <td>0<\/td>\n",
              "      <td>0<\/td>\n",
              "      <td>0<\/td>\n",
              "      <td>0<\/td>\n",
              "      <td>0<\/td>\n",
              "      <td>0<\/td>\n",
              "    <\/tr>\n",
              "    <tr>\n",
              "      <th>2<\/th>\n",
              "      <td>1.0<\/td>\n",
              "      <td>0.4875<\/td>\n",
              "      <td>0<\/td>\n",
              "      <td>0<\/td>\n",
              "      <td>1<\/td>\n",
              "      <td>0<\/td>\n",
              "      <td>0<\/td>\n",
              "      <td>0<\/td>\n",
              "      <td>0<\/td>\n",
              "      <td>0<\/td>\n",
              "      <td>...<\/td>\n",
              "      <td>0<\/td>\n",
              "      <td>0<\/td>\n",
              "      <td>0<\/td>\n",
              "      <td>0<\/td>\n",
              "      <td>1<\/td>\n",
              "      <td>0<\/td>\n",
              "      <td>0<\/td>\n",
              "      <td>0<\/td>\n",
              "      <td>0<\/td>\n",
              "      <td>0<\/td>\n",
              "    <\/tr>\n",
              "    <tr>\n",
              "      <th>3<\/th>\n",
              "      <td>1.0<\/td>\n",
              "      <td>0.4875<\/td>\n",
              "      <td>0<\/td>\n",
              "      <td>0<\/td>\n",
              "      <td>1<\/td>\n",
              "      <td>0<\/td>\n",
              "      <td>0<\/td>\n",
              "      <td>0<\/td>\n",
              "      <td>0<\/td>\n",
              "      <td>0<\/td>\n",
              "      <td>...<\/td>\n",
              "      <td>0<\/td>\n",
              "      <td>0<\/td>\n",
              "      <td>0<\/td>\n",
              "      <td>0<\/td>\n",
              "      <td>0<\/td>\n",
              "      <td>1<\/td>\n",
              "      <td>0<\/td>\n",
              "      <td>0<\/td>\n",
              "      <td>0<\/td>\n",
              "      <td>0<\/td>\n",
              "    <\/tr>\n",
              "    <tr>\n",
              "      <th>4<\/th>\n",
              "      <td>0.8<\/td>\n",
              "      <td>0.4625<\/td>\n",
              "      <td>0<\/td>\n",
              "      <td>0<\/td>\n",
              "      <td>1<\/td>\n",
              "      <td>0<\/td>\n",
              "      <td>0<\/td>\n",
              "      <td>0<\/td>\n",
              "      <td>0<\/td>\n",
              "      <td>0<\/td>\n",
              "      <td>...<\/td>\n",
              "      <td>0<\/td>\n",
              "      <td>0<\/td>\n",
              "      <td>0<\/td>\n",
              "      <td>0<\/td>\n",
              "      <td>0<\/td>\n",
              "      <td>0<\/td>\n",
              "      <td>1<\/td>\n",
              "      <td>0<\/td>\n",
              "      <td>0<\/td>\n",
              "      <td>0<\/td>\n",
              "    <\/tr>\n",
              "  <\/tbody>\n",
              "<\/table>\n",
              "<p>5 rows × 52 columns<\/p>\n",
              "<\/div>"
            ]
          },
          "metadata":{
            
          },
          "output_type":"display_data"
        }
      ],
      "metadata":{
        
      }
    },
    {
      "cell_type":"code",
      "source":[
        "Y_train = mood_history[[\n",
        "            'mood'\n",
        "]]\n",
        "Y_train.columns = range(Y_train.shape[1])\n",
        "\n",
        "Y_train.head()"
      ],
      "execution_count":5,
      "outputs":[
        {
          "data":{
            "text\/html":[
              "<div>\n",
              "<style scoped>\n",
              "    .dataframe tbody tr th:only-of-type {\n",
              "        vertical-align: middle;\n",
              "    }\n",
              "\n",
              "    .dataframe tbody tr th {\n",
              "        vertical-align: top;\n",
              "    }\n",
              "\n",
              "    .dataframe thead th {\n",
              "        text-align: right;\n",
              "    }\n",
              "<\/style>\n",
              "<table border=\"1\" class=\"dataframe\">\n",
              "  <thead>\n",
              "    <tr style=\"text-align: right;\">\n",
              "      <th><\/th>\n",
              "      <th>0<\/th>\n",
              "    <\/tr>\n",
              "  <\/thead>\n",
              "  <tbody>\n",
              "    <tr>\n",
              "      <th>0<\/th>\n",
              "      <td>1.0<\/td>\n",
              "    <\/tr>\n",
              "    <tr>\n",
              "      <th>1<\/th>\n",
              "      <td>0.6<\/td>\n",
              "    <\/tr>\n",
              "    <tr>\n",
              "      <th>2<\/th>\n",
              "      <td>0.8<\/td>\n",
              "    <\/tr>\n",
              "    <tr>\n",
              "      <th>3<\/th>\n",
              "      <td>0.6<\/td>\n",
              "    <\/tr>\n",
              "    <tr>\n",
              "      <th>4<\/th>\n",
              "      <td>0.4<\/td>\n",
              "    <\/tr>\n",
              "  <\/tbody>\n",
              "<\/table>\n",
              "<\/div>"
            ]
          },
          "metadata":{
            
          },
          "output_type":"display_data"
        }
      ],
      "metadata":{
        
      }
    },
    {
      "cell_type":"code",
      "source":[
        "model = Sequential()\n",
        "\n",
        "model.add(Input(shape=(X_train.shape[1],)))\n",
        "model.add(Dense(15, activation='sigmoid'))\n",
        "model.add(Dense(1))"
      ],
      "execution_count":6,
      "outputs":[
        
      ],
      "metadata":{
        
      }
    },
    {
      "cell_type":"code",
      "source":[
        "model.compile(optimizer='sgd', loss='mean_squared_error')"
      ],
      "execution_count":7,
      "outputs":[
        
      ],
      "metadata":{
        
      }
    },
    {
      "cell_type":"code",
      "source":[
        "model.fit(X_train, Y_train, batch_size=1, epochs=10)"
      ],
      "execution_count":8,
      "outputs":[
        {
          "name":"stdout",
          "text":[
            "Epoch 1\/10\n",
            "\r1\/7 [===>..........................] - ETA: 0s - loss: 0.6341\b\b\b\b\b\b\b\b\b\b\b\b\b\b\b\b\b\b\b\b\b\b\b\b\b\b\b\b\b\b\b\b\b\b\b\b\b\b\b\b\b\b\b\b\b\b\b\b\b\b\b\b\b\b\b\b\b\b\b\b\b\r7\/7 [==============================] - 0s 1ms\/step - loss: 0.4537\n",
            "Epoch 2\/10\n",
            "\r1\/7 [===>..........................] - ETA: 0s - loss: 0.0490\b\b\b\b\b\b\b\b\b\b\b\b\b\b\b\b\b\b\b\b\b\b\b\b\b\b\b\b\b\b\b\b\b\b\b\b\b\b\b\b\b\b\b\b\b\b\b\b\b\b\b\b\b\b\b\b\b\b\b\b\b\r7\/7 [==============================] - 0s 1ms\/step - loss: 0.1565\n",
            "Epoch 3\/10\n",
            "\r1\/7 [===>..........................] - ETA: 0s - loss: 0.0284\b\b\b\b\b\b\b\b\b\b\b\b\b\b\b\b\b\b\b\b\b\b\b\b\b\b\b\b\b\b\b\b\b\b\b\b\b\b\b\b\b\b\b\b\b\b\b\b\b\b\b\b\b\b\b\b\b\b\b\b\b\r7\/7 [==============================] - 0s 1ms\/step - loss: 0.0962\n",
            "Epoch 4\/10\n",
            "\r1\/7 [===>..........................] - ETA: 0s - loss: 0.2540\b\b\b\b\b\b\b\b\b\b\b\b\b\b\b\b\b\b\b\b\b\b\b\b\b\b\b\b\b\b\b\b\b\b\b\b\b\b\b\b\b\b\b\b\b\b\b\b\b\b\b\b\b\b\b\b\b\b\b\b\b\r7\/7 [==============================] - 0s 2ms\/step - loss: 0.0849\n",
            "Epoch 5\/10\n",
            "\r1\/7 [===>..........................] - ETA: 0s - loss: 0.1136\b\b\b\b\b\b\b\b\b\b\b\b\b\b\b\b\b\b\b\b\b\b\b\b\b\b\b\b\b\b\b\b\b\b\b\b\b\b\b\b\b\b\b\b\b\b\b\b\b\b\b\b\b\b\b\b\b\b\b\b\b\r7\/7 [==============================] - 0s 1ms\/step - loss: 0.0806\n",
            "Epoch 6\/10\n",
            "\r1\/7 [===>..........................] - ETA: 0s - loss: 0.0317\b\b\b\b\b\b\b\b\b\b\b\b\b\b\b\b\b\b\b\b\b\b\b\b\b\b\b\b\b\b\b\b\b\b\b\b\b\b\b\b\b\b\b\b\b\b\b\b\b\b\b\b\b\b\b\b\b\b\b\b\b\r7\/7 [==============================] - 0s 1ms\/step - loss: 0.0784\n",
            "Epoch 7\/10\n",
            "\r1\/7 [===>..........................] - ETA: 0s - loss: 0.0255\b\b\b\b\b\b\b\b\b\b\b\b\b\b\b\b\b\b\b\b\b\b\b\b\b\b\b\b\b\b\b\b\b\b\b\b\b\b\b\b\b\b\b\b\b\b\b\b\b\b\b\b\b\b\b\b\b\b\b\b\b\r7\/7 [==============================] - 0s 2ms\/step - loss: 0.0776\n",
            "Epoch 8\/10\n",
            "\r1\/7 [===>..........................] - ETA: 0s - loss: 0.0340\b\b\b\b\b\b\b\b\b\b\b\b\b\b\b\b\b\b\b\b\b\b\b\b\b\b\b\b\b\b\b\b\b\b\b\b\b\b\b\b\b\b\b\b\b\b\b\b\b\b\b\b\b\b\b\b\b\b\b\b\b\r7\/7 [==============================] - 0s 1ms\/step - loss: 0.0758\n",
            "Epoch 9\/10\n",
            "\r1\/7 [===>..........................] - ETA: 0s - loss: 0.1247\b\b\b\b\b\b\b\b\b\b\b\b\b\b\b\b\b\b\b\b\b\b\b\b\b\b\b\b\b\b\b\b\b\b\b\b\b\b\b\b\b\b\b\b\b\b\b\b\b\b\b\b\b\b\b\b\b\b\b\b\b\r7\/7 [==============================] - 0s 1ms\/step - loss: 0.0738\n",
            "Epoch 10\/10\n",
            "\r1\/7 [===>..........................] - ETA: 0s - loss: 0.1024\b\b\b\b\b\b\b\b\b\b\b\b\b\b\b\b\b\b\b\b\b\b\b\b\b\b\b\b\b\b\b\b\b\b\b\b\b\b\b\b\b\b\b\b\b\b\b\b\b\b\b\b\b\b\b\b\b\b\b\b\b\r7\/7 [==============================] - 0s 1ms\/step - loss: 0.0742\n"
          ],
          "output_type":"stream"
        },
        {
          "data":{
            "text\/plain":[
              "<tensorflow.python.keras.callbacks.History at 0x7fb654466490>"
            ]
          },
          "metadata":{
            
          },
          "output_type":"display_data"
        }
      ],
      "metadata":{
        
      }
    },
    {
      "cell_type":"code",
      "source":[
        "future_data = pd.DataFrame([[\n",
        "            5,\n",
        "            12,\n",
        "            3,\n",
        "            28,\n",
        "            6       \n",
        "]], columns=['weather', 'temperature', 'month', 'day', 'weekday'])\n",
        "future_data = normalize_data(future_data)\n",
        "future_data = get_training_data(future_data)\n",
        "\n",
        "predictions = model.predict(future_data)\n",
        "\n",
        "predictions"
      ],
      "execution_count":9,
      "outputs":[
        {
          "data":{
            "text\/plain":[
              "array([[0.6841199]], dtype=float32)"
            ]
          },
          "metadata":{
            
          },
          "output_type":"display_data"
        }
      ],
      "metadata":{
        
      }
    }
  ],
  "metadata":{
    
  },
  "nbformat":4,
  "nbformat_minor":0
}