{
 "metadata": {
  "language_info": {
   "codemirror_mode": {
    "name": "ipython",
    "version": 3
   },
   "file_extension": ".py",
   "mimetype": "text/x-python",
   "name": "python",
   "nbconvert_exporter": "python",
   "pygments_lexer": "ipython3",
   "version": 3
  },
  "orig_nbformat": 2
 },
 "nbformat": 4,
 "nbformat_minor": 2,
 "cells": [
  {
   "source": [
    "# Mood prediction with TensorFlow\n",
    "Trying to predict the mood of a user each day with:\n",
    "- Mood rated between 0 and 5\n",
    "- Weather rated between 0 and 5\n",
    "- Temperature\n",
    "- Month of the year\n",
    "- Day of the week between 0 and 6"
   ],
   "cell_type": "markdown",
   "metadata": {}
  }
 ]
}