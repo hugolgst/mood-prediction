{
 "metadata": {
  "language_info": {
   "codemirror_mode": {
    "name": "ipython",
    "version": 3
   },
   "file_extension": ".py",
   "mimetype": "text/x-python",
   "name": "python",
   "nbconvert_exporter": "python",
   "pygments_lexer": "ipython3",
   "version": "3.8.2-final"
  },
  "orig_nbformat": 2,
  "kernelspec": {
   "name": "python3",
   "display_name": "Python 3.8.2 64-bit",
   "metadata": {
    "interpreter": {
     "hash": "5edc29c2ed010d6458d71a83433b383a96a8cbd3efe8531bc90c4b8a5b8bcec9"
    }
   }
  }
 },
 "nbformat": 4,
 "nbformat_minor": 2,
 "cells": [
  {
   "source": [
    "# Mood prediction with TensorFlow\n",
    "Trying to predict the mood of a user each day with:\n",
    "- Mood rated between 0 and 5\n",
    "- Weather rated between 0 and 5\n",
    "- Temperature\n",
    "- Month of the year\n",
    "- Day of the week between 0 and 6"
   ],
   "cell_type": "markdown",
   "metadata": {}
  },
  {
   "cell_type": "code",
   "execution_count": 12,
   "metadata": {},
   "outputs": [],
   "source": [
    "import pandas as pd\n",
    "\n",
    "from tensorflow.keras.models import Sequentials\n",
    "from tensorflow.keras import Input"
   ]
  },
  {
   "cell_type": "code",
   "execution_count": 8,
   "metadata": {},
   "outputs": [
    {
     "output_type": "execute_result",
     "data": {
      "text/plain": [
       "    timestamp  mood  weather  temperature  month  day  weekday\n",
       "0  1616320024     5        5            8      3   21        6\n",
       "1  1616406424     3        4            8      3   22        0\n",
       "2  1616579224     4        5            9      3   23        1\n",
       "3  1616579224     3        5            9      3   24        2\n",
       "4  1616665624     2        4            7      3   25        3"
      ],
      "text/html": "<div>\n<style scoped>\n    .dataframe tbody tr th:only-of-type {\n        vertical-align: middle;\n    }\n\n    .dataframe tbody tr th {\n        vertical-align: top;\n    }\n\n    .dataframe thead th {\n        text-align: right;\n    }\n</style>\n<table border=\"1\" class=\"dataframe\">\n  <thead>\n    <tr style=\"text-align: right;\">\n      <th></th>\n      <th>timestamp</th>\n      <th>mood</th>\n      <th>weather</th>\n      <th>temperature</th>\n      <th>month</th>\n      <th>day</th>\n      <th>weekday</th>\n    </tr>\n  </thead>\n  <tbody>\n    <tr>\n      <th>0</th>\n      <td>1616320024</td>\n      <td>5</td>\n      <td>5</td>\n      <td>8</td>\n      <td>3</td>\n      <td>21</td>\n      <td>6</td>\n    </tr>\n    <tr>\n      <th>1</th>\n      <td>1616406424</td>\n      <td>3</td>\n      <td>4</td>\n      <td>8</td>\n      <td>3</td>\n      <td>22</td>\n      <td>0</td>\n    </tr>\n    <tr>\n      <th>2</th>\n      <td>1616579224</td>\n      <td>4</td>\n      <td>5</td>\n      <td>9</td>\n      <td>3</td>\n      <td>23</td>\n      <td>1</td>\n    </tr>\n    <tr>\n      <th>3</th>\n      <td>1616579224</td>\n      <td>3</td>\n      <td>5</td>\n      <td>9</td>\n      <td>3</td>\n      <td>24</td>\n      <td>2</td>\n    </tr>\n    <tr>\n      <th>4</th>\n      <td>1616665624</td>\n      <td>2</td>\n      <td>4</td>\n      <td>7</td>\n      <td>3</td>\n      <td>25</td>\n      <td>3</td>\n    </tr>\n  </tbody>\n</table>\n</div>"
     },
     "metadata": {},
     "execution_count": 8
    }
   ],
   "source": [
    "mood_history = pd.read_csv('mood-history.csv').sort_values('timestamp')\n",
    "mood_history.head()"
   ]
  },
  {
   "cell_type": "code",
   "execution_count": null,
   "metadata": {},
   "outputs": [],
   "source": []
  }
 ]
}